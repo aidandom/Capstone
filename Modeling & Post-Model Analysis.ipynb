{
 "cells": [
  {
   "cell_type": "markdown",
   "metadata": {},
   "source": [
    "---"
   ]
  },
  {
   "cell_type": "markdown",
   "metadata": {},
   "source": [
    "## Clustering"
   ]
  },
  {
   "cell_type": "code",
   "execution_count": 12,
   "metadata": {},
   "outputs": [],
   "source": [
    "import pandas as pd\n",
    "import numpy as np\n",
    "import seaborn as sns\n",
    "import matplotlib.pyplot as plt\n",
    "\n",
    "from sklearn.preprocessing import StandardScaler, PolynomialFeatures\n",
    "from sklearn.cluster import KMeans\n",
    "from sklearn.metrics import silhouette_score\n",
    "from sklearn.preprocessing import PolynomialFeatures\n",
    "\n",
    "# read in data from EDA\n",
    "df = pd.read_csv('./datasets/data_for_clustering.csv')\n",
    "\n",
    "# select features for modeling\n",
    "features = ['first_serve_pct', 'first_serve_win_pct', 'rank_change', 'cluster_rank',\n",
    "            'second_serve_win_pct', 'first_return_win_pct', 'second_return_win_pct',\n",
    "            'matches_played', 'climb_rate']"
   ]
  },
  {
   "cell_type": "code",
   "execution_count": 13,
   "metadata": {},
   "outputs": [
    {
     "name": "stderr",
     "output_type": "stream",
     "text": [
      "/Users/aidandominguez/opt/anaconda3/lib/python3.6/site-packages/ipykernel_launcher.py:18: SettingWithCopyWarning: \n",
      "A value is trying to be set on a copy of a slice from a DataFrame.\n",
      "Try using .loc[row_indexer,col_indexer] = value instead\n",
      "\n",
      "See the caveats in the documentation: https://pandas.pydata.org/pandas-docs/stable/user_guide/indexing.html#returning-a-view-versus-a-copy\n",
      "/Users/aidandominguez/opt/anaconda3/lib/python3.6/site-packages/ipykernel_launcher.py:18: SettingWithCopyWarning: \n",
      "A value is trying to be set on a copy of a slice from a DataFrame.\n",
      "Try using .loc[row_indexer,col_indexer] = value instead\n",
      "\n",
      "See the caveats in the documentation: https://pandas.pydata.org/pandas-docs/stable/user_guide/indexing.html#returning-a-view-versus-a-copy\n",
      "/Users/aidandominguez/opt/anaconda3/lib/python3.6/site-packages/ipykernel_launcher.py:18: SettingWithCopyWarning: \n",
      "A value is trying to be set on a copy of a slice from a DataFrame.\n",
      "Try using .loc[row_indexer,col_indexer] = value instead\n",
      "\n",
      "See the caveats in the documentation: https://pandas.pydata.org/pandas-docs/stable/user_guide/indexing.html#returning-a-view-versus-a-copy\n",
      "/Users/aidandominguez/opt/anaconda3/lib/python3.6/site-packages/ipykernel_launcher.py:18: SettingWithCopyWarning: \n",
      "A value is trying to be set on a copy of a slice from a DataFrame.\n",
      "Try using .loc[row_indexer,col_indexer] = value instead\n",
      "\n",
      "See the caveats in the documentation: https://pandas.pydata.org/pandas-docs/stable/user_guide/indexing.html#returning-a-view-versus-a-copy\n",
      "/Users/aidandominguez/opt/anaconda3/lib/python3.6/site-packages/ipykernel_launcher.py:18: SettingWithCopyWarning: \n",
      "A value is trying to be set on a copy of a slice from a DataFrame.\n",
      "Try using .loc[row_indexer,col_indexer] = value instead\n",
      "\n",
      "See the caveats in the documentation: https://pandas.pydata.org/pandas-docs/stable/user_guide/indexing.html#returning-a-view-versus-a-copy\n",
      "/Users/aidandominguez/opt/anaconda3/lib/python3.6/site-packages/ipykernel_launcher.py:18: SettingWithCopyWarning: \n",
      "A value is trying to be set on a copy of a slice from a DataFrame.\n",
      "Try using .loc[row_indexer,col_indexer] = value instead\n",
      "\n",
      "See the caveats in the documentation: https://pandas.pydata.org/pandas-docs/stable/user_guide/indexing.html#returning-a-view-versus-a-copy\n",
      "/Users/aidandominguez/opt/anaconda3/lib/python3.6/site-packages/ipykernel_launcher.py:18: SettingWithCopyWarning: \n",
      "A value is trying to be set on a copy of a slice from a DataFrame.\n",
      "Try using .loc[row_indexer,col_indexer] = value instead\n",
      "\n",
      "See the caveats in the documentation: https://pandas.pydata.org/pandas-docs/stable/user_guide/indexing.html#returning-a-view-versus-a-copy\n",
      "/Users/aidandominguez/opt/anaconda3/lib/python3.6/site-packages/ipykernel_launcher.py:18: SettingWithCopyWarning: \n",
      "A value is trying to be set on a copy of a slice from a DataFrame.\n",
      "Try using .loc[row_indexer,col_indexer] = value instead\n",
      "\n",
      "See the caveats in the documentation: https://pandas.pydata.org/pandas-docs/stable/user_guide/indexing.html#returning-a-view-versus-a-copy\n",
      "/Users/aidandominguez/opt/anaconda3/lib/python3.6/site-packages/ipykernel_launcher.py:18: SettingWithCopyWarning: \n",
      "A value is trying to be set on a copy of a slice from a DataFrame.\n",
      "Try using .loc[row_indexer,col_indexer] = value instead\n",
      "\n",
      "See the caveats in the documentation: https://pandas.pydata.org/pandas-docs/stable/user_guide/indexing.html#returning-a-view-versus-a-copy\n",
      "/Users/aidandominguez/opt/anaconda3/lib/python3.6/site-packages/ipykernel_launcher.py:18: SettingWithCopyWarning: \n",
      "A value is trying to be set on a copy of a slice from a DataFrame.\n",
      "Try using .loc[row_indexer,col_indexer] = value instead\n",
      "\n",
      "See the caveats in the documentation: https://pandas.pydata.org/pandas-docs/stable/user_guide/indexing.html#returning-a-view-versus-a-copy\n",
      "/Users/aidandominguez/opt/anaconda3/lib/python3.6/site-packages/ipykernel_launcher.py:18: SettingWithCopyWarning: \n",
      "A value is trying to be set on a copy of a slice from a DataFrame.\n",
      "Try using .loc[row_indexer,col_indexer] = value instead\n",
      "\n",
      "See the caveats in the documentation: https://pandas.pydata.org/pandas-docs/stable/user_guide/indexing.html#returning-a-view-versus-a-copy\n",
      "/Users/aidandominguez/opt/anaconda3/lib/python3.6/site-packages/ipykernel_launcher.py:18: SettingWithCopyWarning: \n",
      "A value is trying to be set on a copy of a slice from a DataFrame.\n",
      "Try using .loc[row_indexer,col_indexer] = value instead\n",
      "\n",
      "See the caveats in the documentation: https://pandas.pydata.org/pandas-docs/stable/user_guide/indexing.html#returning-a-view-versus-a-copy\n",
      "/Users/aidandominguez/opt/anaconda3/lib/python3.6/site-packages/ipykernel_launcher.py:18: SettingWithCopyWarning: \n",
      "A value is trying to be set on a copy of a slice from a DataFrame.\n",
      "Try using .loc[row_indexer,col_indexer] = value instead\n",
      "\n",
      "See the caveats in the documentation: https://pandas.pydata.org/pandas-docs/stable/user_guide/indexing.html#returning-a-view-versus-a-copy\n"
     ]
    },
    {
     "data": {
      "image/png": "[encoded data removed]",
      "text/plain": [
       "<Figure size 1008x504 with 1 Axes>"
      ]
     },
     "metadata": {
      "needs_background": "light"
     },
     "output_type": "display_data"
    }
   ],
   "source": [
    "# determine ideal k using silhouette score\n",
    "scores = []\n",
    "df_copy = df.copy()\n",
    "X = df_copy[features]\n",
    "\n",
    "# create interaction terms\n",
    "poly = PolynomialFeatures(interaction_only=True)\n",
    "X_poly = poly.fit_transform(X)\n",
    "\n",
    "# scale features\n",
    "ss = StandardScaler()\n",
    "Z = ss.fit_transform(X_poly)\n",
    "\n",
    "# test different values of k\n",
    "for k in range(2, 15):\n",
    "    km = KMeans(n_clusters=k, random_state=527)\n",
    "    km.fit(Z)\n",
    "    X['clusters'] = km.labels_\n",
    "    sil = silhouette_score(X.drop(columns='clusters'), X.clusters)\n",
    "    scores.append([k, sil])\n",
    "    \n",
    "score_df = pd.DataFrame(scores)\n",
    "score_df.columns = ['k', 'silhouette']\n",
    "\n",
    "# plot results\n",
    "fig, ax = plt.subplots(figsize=(14, 7))\n",
    "ax.plot(score_df.k, score_df.silhouette);\n",
    "ax.set_title('Silhouette Score over k');"
   ]
  },
  {
   "cell_type": "code",
   "execution_count": 14,
   "metadata": {},
   "outputs": [
    {
     "data": {
      "text/html": [
       "<div>\n",
       "<style scoped>\n",
       "    .dataframe tbody tr th:only-of-type {\n",
       "        vertical-align: middle;\n",
       "    }\n",
       "\n",
       "    .dataframe tbody tr th {\n",
       "        vertical-align: top;\n",
       "    }\n",
       "\n",
       "    .dataframe thead th {\n",
       "        text-align: right;\n",
       "    }\n",
       "</style>\n",
       "<table border=\"1\" class=\"dataframe\">\n",
       "  <thead>\n",
       "    <tr style=\"text-align: right;\">\n",
       "      <th></th>\n",
       "      <th>k</th>\n",
       "      <th>silhouette</th>\n",
       "    </tr>\n",
       "  </thead>\n",
       "  <tbody>\n",
       "    <tr>\n",
       "      <th>1</th>\n",
       "      <td>3</td>\n",
       "      <td>0.407030</td>\n",
       "    </tr>\n",
       "    <tr>\n",
       "      <th>0</th>\n",
       "      <td>2</td>\n",
       "      <td>0.365639</td>\n",
       "    </tr>\n",
       "    <tr>\n",
       "      <th>3</th>\n",
       "      <td>5</td>\n",
       "      <td>0.311983</td>\n",
       "    </tr>\n",
       "  </tbody>\n",
       "</table>\n",
       "</div>"
      ],
      "text/plain": [
       "   k  silhouette\n",
       "1  3    0.407030\n",
       "0  2    0.365639\n",
       "3  5    0.311983"
      ]
     },
     "execution_count": 14,
     "metadata": {},
     "output_type": "execute_result"
    }
   ],
   "source": [
    "# best values of k\n",
    "score_df.sort_values('silhouette', ascending=False).head(3)"
   ]
  },
  {
   "cell_type": "markdown",
   "metadata": {},
   "source": [
    "- Best value of k is 3\n",
    "- Silhouette Score of 0.41"
   ]
  },
  {
   "cell_type": "markdown",
   "metadata": {},
   "source": [
    "---"
   ]
  },
  {
   "cell_type": "markdown",
   "metadata": {},
   "source": [
    "## Final model"
   ]
  },
  {
   "cell_type": "code",
   "execution_count": 15,
   "metadata": {},
   "outputs": [],
   "source": [
    "# define features and transform\n",
    "X = df[features]\n",
    "\n",
    "poly = PolynomialFeatures(interaction_only=True)\n",
    "X_poly = poly.fit_transform(X)\n",
    "\n",
    "ss = StandardScaler()\n",
    "Z = ss.fit_transform(X_poly)\n",
    "\n",
    "# fit KMeans model with 3 clusters\n",
    "km = KMeans(n_clusters=3, random_state=527)\n",
    "km.fit(Z)\n",
    "\n",
    "# assign cluster labels \n",
    "df['clusters'] = km.labels_"
   ]
  },
  {
   "cell_type": "code",
   "execution_count": 16,
   "metadata": {},
   "outputs": [
    {
     "data": {
      "text/html": [
       "<div>\n",
       "<style scoped>\n",
       "    .dataframe tbody tr th:only-of-type {\n",
       "        vertical-align: middle;\n",
       "    }\n",
       "\n",
       "    .dataframe tbody tr th {\n",
       "        vertical-align: top;\n",
       "    }\n",
       "\n",
       "    .dataframe thead th {\n",
       "        text-align: right;\n",
       "    }\n",
       "</style>\n",
       "<table border=\"1\" class=\"dataframe\">\n",
       "  <thead>\n",
       "    <tr style=\"text-align: right;\">\n",
       "      <th></th>\n",
       "      <th>player</th>\n",
       "      <th>player_id</th>\n",
       "      <th>first_serve_pct</th>\n",
       "      <th>first_serve_win_pct</th>\n",
       "      <th>service_win_pct</th>\n",
       "      <th>second_serve_win_pct</th>\n",
       "      <th>first_return_win_pct</th>\n",
       "      <th>second_return_win_pct</th>\n",
       "      <th>rank</th>\n",
       "      <th>age</th>\n",
       "      <th>rank_change</th>\n",
       "      <th>cluster_rank</th>\n",
       "      <th>matches_played</th>\n",
       "      <th>cluster_age</th>\n",
       "      <th>climb_rate</th>\n",
       "    </tr>\n",
       "    <tr>\n",
       "      <th>clusters</th>\n",
       "      <th></th>\n",
       "      <th></th>\n",
       "      <th></th>\n",
       "      <th></th>\n",
       "      <th></th>\n",
       "      <th></th>\n",
       "      <th></th>\n",
       "      <th></th>\n",
       "      <th></th>\n",
       "      <th></th>\n",
       "      <th></th>\n",
       "      <th></th>\n",
       "      <th></th>\n",
       "      <th></th>\n",
       "      <th></th>\n",
       "    </tr>\n",
       "  </thead>\n",
       "  <tbody>\n",
       "    <tr>\n",
       "      <th>0</th>\n",
       "      <td>68</td>\n",
       "      <td>68</td>\n",
       "      <td>68</td>\n",
       "      <td>68</td>\n",
       "      <td>68</td>\n",
       "      <td>68</td>\n",
       "      <td>68</td>\n",
       "      <td>68</td>\n",
       "      <td>68</td>\n",
       "      <td>68</td>\n",
       "      <td>68</td>\n",
       "      <td>68</td>\n",
       "      <td>68</td>\n",
       "      <td>68</td>\n",
       "      <td>68</td>\n",
       "    </tr>\n",
       "    <tr>\n",
       "      <th>1</th>\n",
       "      <td>125</td>\n",
       "      <td>125</td>\n",
       "      <td>125</td>\n",
       "      <td>125</td>\n",
       "      <td>125</td>\n",
       "      <td>125</td>\n",
       "      <td>125</td>\n",
       "      <td>125</td>\n",
       "      <td>125</td>\n",
       "      <td>125</td>\n",
       "      <td>125</td>\n",
       "      <td>125</td>\n",
       "      <td>125</td>\n",
       "      <td>125</td>\n",
       "      <td>125</td>\n",
       "    </tr>\n",
       "    <tr>\n",
       "      <th>2</th>\n",
       "      <td>24</td>\n",
       "      <td>24</td>\n",
       "      <td>24</td>\n",
       "      <td>24</td>\n",
       "      <td>24</td>\n",
       "      <td>24</td>\n",
       "      <td>24</td>\n",
       "      <td>24</td>\n",
       "      <td>24</td>\n",
       "      <td>24</td>\n",
       "      <td>24</td>\n",
       "      <td>24</td>\n",
       "      <td>24</td>\n",
       "      <td>24</td>\n",
       "      <td>24</td>\n",
       "    </tr>\n",
       "  </tbody>\n",
       "</table>\n",
       "</div>"
      ],
      "text/plain": [
       "          player  player_id  first_serve_pct  first_serve_win_pct  \\\n",
       "clusters                                                            \n",
       "0             68         68               68                   68   \n",
       "1            125        125              125                  125   \n",
       "2             24         24               24                   24   \n",
       "\n",
       "          service_win_pct  second_serve_win_pct  first_return_win_pct  \\\n",
       "clusters                                                                \n",
       "0                      68                    68                    68   \n",
       "1                     125                   125                   125   \n",
       "2                      24                    24                    24   \n",
       "\n",
       "          second_return_win_pct  rank  age  rank_change  cluster_rank  \\\n",
       "clusters                                                                \n",
       "0                            68    68   68           68            68   \n",
       "1                           125   125  125          125           125   \n",
       "2                            24    24   24           24            24   \n",
       "\n",
       "          matches_played  cluster_age  climb_rate  \n",
       "clusters                                           \n",
       "0                     68           68          68  \n",
       "1                    125          125         125  \n",
       "2                     24           24          24  "
      ]
     },
     "execution_count": 16,
     "metadata": {},
     "output_type": "execute_result"
    }
   ],
   "source": [
    "# find size of each cluster\n",
    "df.groupby('clusters').count()"
   ]
  },
  {
   "cell_type": "markdown",
   "metadata": {},
   "source": [
    "---"
   ]
  },
  {
   "cell_type": "markdown",
   "metadata": {},
   "source": [
    "## Post-model Analysis"
   ]
  },
  {
   "cell_type": "markdown",
   "metadata": {},
   "source": [
    "### Name of the game is $1^{st}$ serves.\n",
    "\n",
    "**elite vs talented** \n",
    "- elite : 2% first serve win (%), 1% service win (%), 1% first serve return win (%), 2% second return win (%)<br>\n",
    "- really good : 2% first serve (%)\n",
    "- 0% second serve win (%)\n",
    "\n",
    "**elite vs average**\n",
    "- elite : 1% first serve win (%), 1% first serve return win (%)\n",
    "- bout the same age and only cluster with average rank change is negative, so maybe former really good or elite players mixed in\n",
    "\n",
    "### Largest differences likely to occur in Return Win (%) and Mental Game\n",
    "- smaller limitation : matchups, elites stats may be lower because they play against other elites more often"
   ]
  },
  {
   "cell_type": "code",
   "execution_count": 17,
   "metadata": {},
   "outputs": [
    {
     "data": {
      "text/html": [
       "<div>\n",
       "<style scoped>\n",
       "    .dataframe tbody tr th:only-of-type {\n",
       "        vertical-align: middle;\n",
       "    }\n",
       "\n",
       "    .dataframe tbody tr th {\n",
       "        vertical-align: top;\n",
       "    }\n",
       "\n",
       "    .dataframe thead th {\n",
       "        text-align: right;\n",
       "    }\n",
       "</style>\n",
       "<table border=\"1\" class=\"dataframe\">\n",
       "  <thead>\n",
       "    <tr style=\"text-align: right;\">\n",
       "      <th>clusters</th>\n",
       "      <th>elite</th>\n",
       "      <th>talented</th>\n",
       "      <th>average</th>\n",
       "    </tr>\n",
       "  </thead>\n",
       "  <tbody>\n",
       "    <tr>\n",
       "      <th>first_serve_pct</th>\n",
       "      <td>0.606196</td>\n",
       "      <td>0.624813</td>\n",
       "      <td>0.604874</td>\n",
       "    </tr>\n",
       "    <tr>\n",
       "      <th>first_serve_win_pct</th>\n",
       "      <td>0.695462</td>\n",
       "      <td>0.678424</td>\n",
       "      <td>0.693828</td>\n",
       "    </tr>\n",
       "    <tr>\n",
       "      <th>service_win_pct</th>\n",
       "      <td>0.616673</td>\n",
       "      <td>0.612959</td>\n",
       "      <td>0.615360</td>\n",
       "    </tr>\n",
       "    <tr>\n",
       "      <th>second_serve_win_pct</th>\n",
       "      <td>0.497285</td>\n",
       "      <td>0.523395</td>\n",
       "      <td>0.498854</td>\n",
       "    </tr>\n",
       "    <tr>\n",
       "      <th>first_return_win_pct</th>\n",
       "      <td>0.300287</td>\n",
       "      <td>0.282101</td>\n",
       "      <td>0.287520</td>\n",
       "    </tr>\n",
       "    <tr>\n",
       "      <th>second_return_win_pct</th>\n",
       "      <td>0.485410</td>\n",
       "      <td>0.470147</td>\n",
       "      <td>0.488718</td>\n",
       "    </tr>\n",
       "    <tr>\n",
       "      <th>rank</th>\n",
       "      <td>42.411765</td>\n",
       "      <td>162.333333</td>\n",
       "      <td>190.520000</td>\n",
       "    </tr>\n",
       "    <tr>\n",
       "      <th>age</th>\n",
       "      <td>28.102941</td>\n",
       "      <td>25.458333</td>\n",
       "      <td>27.128000</td>\n",
       "    </tr>\n",
       "    <tr>\n",
       "      <th>rank_change</th>\n",
       "      <td>14.235294</td>\n",
       "      <td>275.333333</td>\n",
       "      <td>-41.288000</td>\n",
       "    </tr>\n",
       "    <tr>\n",
       "      <th>cluster_rank</th>\n",
       "      <td>469.823529</td>\n",
       "      <td>196.666667</td>\n",
       "      <td>170.568000</td>\n",
       "    </tr>\n",
       "    <tr>\n",
       "      <th>matches_played</th>\n",
       "      <td>50.647059</td>\n",
       "      <td>13.708333</td>\n",
       "      <td>20.056000</td>\n",
       "    </tr>\n",
       "    <tr>\n",
       "      <th>cluster_age</th>\n",
       "      <td>0.036658</td>\n",
       "      <td>0.040532</td>\n",
       "      <td>0.037900</td>\n",
       "    </tr>\n",
       "    <tr>\n",
       "      <th>climb_rate</th>\n",
       "      <td>0.303875</td>\n",
       "      <td>23.297257</td>\n",
       "      <td>-2.913501</td>\n",
       "    </tr>\n",
       "  </tbody>\n",
       "</table>\n",
       "</div>"
      ],
      "text/plain": [
       "clusters                    elite    talented     average\n",
       "first_serve_pct          0.606196    0.624813    0.604874\n",
       "first_serve_win_pct      0.695462    0.678424    0.693828\n",
       "service_win_pct          0.616673    0.612959    0.615360\n",
       "second_serve_win_pct     0.497285    0.523395    0.498854\n",
       "first_return_win_pct     0.300287    0.282101    0.287520\n",
       "second_return_win_pct    0.485410    0.470147    0.488718\n",
       "rank                    42.411765  162.333333  190.520000\n",
       "age                     28.102941   25.458333   27.128000\n",
       "rank_change             14.235294  275.333333  -41.288000\n",
       "cluster_rank           469.823529  196.666667  170.568000\n",
       "matches_played          50.647059   13.708333   20.056000\n",
       "cluster_age              0.036658    0.040532    0.037900\n",
       "climb_rate               0.303875   23.297257   -2.913501"
      ]
     },
     "execution_count": 17,
     "metadata": {},
     "output_type": "execute_result"
    }
   ],
   "source": [
    "df.clusters = df.clusters.map({0: 'elite', 2: 'talented', 1: 'average'})\n",
    "df.groupby('clusters').mean().sort_values('rank').T"
   ]
  },
  {
   "cell_type": "code",
   "execution_count": 18,
   "metadata": {},
   "outputs": [],
   "source": [
    "# make cumulative score to rank them after sorting off age\n",
    "df['score'] = (df.first_serve_pct + df.first_serve_win_pct + df.service_win_pct + df.second_serve_win_pct + df.first_return_win_pct + df.second_return_win_pct) / 6\n",
    "\n",
    "# climb rate * rank\n",
    "df['climb_rate*rank'] = df['climb_rate'] * df['rank']\n",
    "\n",
    "# climb_rate*rank * score\n",
    "df['total_score'] = df['score'] * df['climb_rate*rank']"
   ]
  },
  {
   "cell_type": "code",
   "execution_count": 19,
   "metadata": {},
   "outputs": [],
   "source": [
    "# Top predicted Rising Star Tennis Players\n",
    "drop_cols = ['player_id', 'first_serve_pct', 'second_serve_win_pct']\n",
    "stars = df.loc[(df['clusters']=='elite') & (df['age']<=23) & (df['rank']> 25)].drop(columns=drop_cols).sort_values('total_score', ascending=False)"
   ]
  },
  {
   "cell_type": "markdown",
   "metadata": {},
   "source": [
    "---"
   ]
  },
  {
   "cell_type": "markdown",
   "metadata": {},
   "source": [
    "### Highest correlations\n",
    "- highest correlations in order were rank_change, rank, matches_played, first_return_win_pct\n",
    "    - how much you have moved up compared to how many matches you've played\n",
    "    - how well you can neutralize opponent's first serves"
   ]
  },
  {
   "cell_type": "code",
   "execution_count": 22,
   "metadata": {},
   "outputs": [
    {
     "data": {
      "text/plain": [
       "second_serve_win_pct     0.001837\n",
       "first_serve_win_pct      0.003997\n",
       "service_win_pct          0.011806\n",
       "first_serve_pct          0.028621\n",
       "score                    0.036738\n",
       "second_return_win_pct    0.037454\n",
       "cluster_age              0.068946\n",
       "age                      0.080726\n",
       "first_return_win_pct     0.112748\n",
       "total_score              0.198936\n",
       "climb_rate               0.199626\n",
       "climb_rate*rank          0.200762\n",
       "rank_change              0.263048\n",
       "rank                     0.651644\n",
       "cluster_rank             0.709072\n",
       "matches_played           0.741927\n",
       "clusters                 1.000000\n",
       "dtype: float64"
      ]
     },
     "execution_count": 22,
     "metadata": {},
     "output_type": "execute_result"
    }
   ],
   "source": [
    "# change cluster labels back to numbers for ease of use\n",
    "df.clusters = df.clusters.map({'elite': 0, 'talented': 1, 'average': 2})\n",
    "abs(df.corrwith(df['clusters'])).sort_values(0)"
   ]
  },
  {
   "cell_type": "markdown",
   "metadata": {},
   "source": [
    "---"
   ]
  },
  {
   "cell_type": "markdown",
   "metadata": {},
   "source": [
    "### Results"
   ]
  },
  {
   "cell_type": "code",
   "execution_count": 23,
   "metadata": {},
   "outputs": [],
   "source": [
    "stars.to_csv('./results/rising_stars_predictions.csv')"
   ]
  },
  {
   "cell_type": "markdown",
   "metadata": {},
   "source": [
    "---"
   ]
  }
 ],
 "metadata": {
  "kernelspec": {
   "display_name": "Python 3",
   "language": "python",
   "name": "python3"
  },
  "language_info": {
   "codemirror_mode": {
    "name": "ipython",
    "version": 3
   },
   "file_extension": ".py",
   "mimetype": "text/x-python",
   "name": "python",
   "nbconvert_exporter": "python",
   "pygments_lexer": "ipython3",
   "version": "3.6.9"
  }
 },
 "nbformat": 4,
 "nbformat_minor": 2
}
