{
 "cells": [
  {
   "cell_type": "markdown",
   "metadata": {},
   "source": [
    "# Capstone"
   ]
  },
  {
   "cell_type": "markdown",
   "metadata": {},
   "source": [
    "---\n",
    "### Problem Statement:\n",
    "\n",
    "**Which players are predicted to be future talents after 2017?**\n",
    "\n",
    "---"
   ]
  },
  {
   "cell_type": "markdown",
   "metadata": {},
   "source": [
    "### Goal:\n",
    "\n",
    "- Clustering using rankings and results to group players into performance groups\n",
    "- Use stats of players to group them into clusters to predict performance"
   ]
  },
  {
   "cell_type": "markdown",
   "metadata": {},
   "source": [
    "\n",
    "### Imports"
   ]
  },
  {
   "cell_type": "code",
   "execution_count": 1,
   "metadata": {},
   "outputs": [
    {
     "name": "stderr",
     "output_type": "stream",
     "text": [
      "/Users/aidandominguez/opt/anaconda3/lib/python3.6/site-packages/statsmodels/tools/_testing.py:19: FutureWarning: pandas.util.testing is deprecated. Use the functions in the public API at pandas.testing instead.\n",
      "  import pandas.util.testing as tm\n"
     ]
    }
   ],
   "source": [
    "import pandas as pd\n",
    "import numpy as np\n",
    "import seaborn as sns\n",
    "import matplotlib.pyplot as plt"
   ]
  },
  {
   "cell_type": "markdown",
   "metadata": {},
   "source": [
    "### Read in data"
   ]
  },
  {
   "cell_type": "code",
   "execution_count": 2,
   "metadata": {},
   "outputs": [],
   "source": [
    "df_scores = pd.read_csv('./datasets/match_scores_2017_unindexed_csv.csv')\n",
    "df_stats = pd.read_csv('./datasets/match_stats_2017_unindexed_csv.csv')"
   ]
  },
  {
   "cell_type": "code",
   "execution_count": 3,
   "metadata": {},
   "outputs": [
    {
     "name": "stdout",
     "output_type": "stream",
     "text": [
      "Index(['tourney_year_id', 'tourney_order', 'tourney_slug',\n",
      "       'tourney_url_suffix', 'tourney_round_name', 'round_order',\n",
      "       'match_order', 'winner_name', 'winner_player_id', 'winner_slug',\n",
      "       'loser_name', 'loser_player_id', 'loser_slug', 'winner_seed',\n",
      "       'loser_seed', 'match_score_tiebreaks', 'winner_sets_won',\n",
      "       'loser_sets_won', 'winner_games_won', 'loser_games_won',\n",
      "       'winner_tiebreaks_won', 'loser_tiebreaks_won', 'match_id',\n",
      "       'match_stats_url_suffix'],\n",
      "      dtype='object')\n"
     ]
    },
    {
     "data": {
      "text/html": [
       "<div>\n",
       "<style scoped>\n",
       "    .dataframe tbody tr th:only-of-type {\n",
       "        vertical-align: middle;\n",
       "    }\n",
       "\n",
       "    .dataframe tbody tr th {\n",
       "        vertical-align: top;\n",
       "    }\n",
       "\n",
       "    .dataframe thead th {\n",
       "        text-align: right;\n",
       "    }\n",
       "</style>\n",
       "<table border=\"1\" class=\"dataframe\">\n",
       "  <thead>\n",
       "    <tr style=\"text-align: right;\">\n",
       "      <th></th>\n",
       "      <th>tourney_year_id</th>\n",
       "      <th>tourney_order</th>\n",
       "      <th>tourney_slug</th>\n",
       "      <th>tourney_url_suffix</th>\n",
       "      <th>tourney_round_name</th>\n",
       "      <th>round_order</th>\n",
       "      <th>match_order</th>\n",
       "      <th>winner_name</th>\n",
       "      <th>winner_player_id</th>\n",
       "      <th>winner_slug</th>\n",
       "      <th>...</th>\n",
       "      <th>loser_seed</th>\n",
       "      <th>match_score_tiebreaks</th>\n",
       "      <th>winner_sets_won</th>\n",
       "      <th>loser_sets_won</th>\n",
       "      <th>winner_games_won</th>\n",
       "      <th>loser_games_won</th>\n",
       "      <th>winner_tiebreaks_won</th>\n",
       "      <th>loser_tiebreaks_won</th>\n",
       "      <th>match_id</th>\n",
       "      <th>match_stats_url_suffix</th>\n",
       "    </tr>\n",
       "  </thead>\n",
       "  <tbody>\n",
       "    <tr>\n",
       "      <th>0</th>\n",
       "      <td>2017-339</td>\n",
       "      <td>1</td>\n",
       "      <td>brisbane</td>\n",
       "      <td>/en/scores/archive/brisbane/339/2017/results</td>\n",
       "      <td>Finals</td>\n",
       "      <td>1</td>\n",
       "      <td>1</td>\n",
       "      <td>Grigor Dimitrov</td>\n",
       "      <td>d875</td>\n",
       "      <td>grigor-dimitrov</td>\n",
       "      <td>...</td>\n",
       "      <td>3</td>\n",
       "      <td>62 26 63</td>\n",
       "      <td>2</td>\n",
       "      <td>1</td>\n",
       "      <td>14</td>\n",
       "      <td>11</td>\n",
       "      <td>0</td>\n",
       "      <td>0</td>\n",
       "      <td>2017-339-d875-n552</td>\n",
       "      <td>/en/scores/2017/339/MS001/match-stats</td>\n",
       "    </tr>\n",
       "    <tr>\n",
       "      <th>1</th>\n",
       "      <td>2017-339</td>\n",
       "      <td>1</td>\n",
       "      <td>brisbane</td>\n",
       "      <td>/en/scores/archive/brisbane/339/2017/results</td>\n",
       "      <td>Semi-Finals</td>\n",
       "      <td>2</td>\n",
       "      <td>1</td>\n",
       "      <td>Grigor Dimitrov</td>\n",
       "      <td>d875</td>\n",
       "      <td>grigor-dimitrov</td>\n",
       "      <td>...</td>\n",
       "      <td>1</td>\n",
       "      <td>76(7) 62</td>\n",
       "      <td>2</td>\n",
       "      <td>0</td>\n",
       "      <td>13</td>\n",
       "      <td>8</td>\n",
       "      <td>1</td>\n",
       "      <td>0</td>\n",
       "      <td>2017-339-d875-r975</td>\n",
       "      <td>/en/scores/2017/339/MS002/match-stats</td>\n",
       "    </tr>\n",
       "  </tbody>\n",
       "</table>\n",
       "<p>2 rows × 24 columns</p>\n",
       "</div>"
      ],
      "text/plain": [
       "  tourney_year_id  tourney_order tourney_slug  \\\n",
       "0        2017-339              1     brisbane   \n",
       "1        2017-339              1     brisbane   \n",
       "\n",
       "                             tourney_url_suffix tourney_round_name  \\\n",
       "0  /en/scores/archive/brisbane/339/2017/results             Finals   \n",
       "1  /en/scores/archive/brisbane/339/2017/results        Semi-Finals   \n",
       "\n",
       "   round_order  match_order      winner_name winner_player_id  \\\n",
       "0            1            1  Grigor Dimitrov             d875   \n",
       "1            2            1  Grigor Dimitrov             d875   \n",
       "\n",
       "       winner_slug  ... loser_seed match_score_tiebreaks winner_sets_won  \\\n",
       "0  grigor-dimitrov  ...          3              62 26 63               2   \n",
       "1  grigor-dimitrov  ...          1              76(7) 62               2   \n",
       "\n",
       "  loser_sets_won winner_games_won loser_games_won  winner_tiebreaks_won  \\\n",
       "0              1               14              11                     0   \n",
       "1              0               13               8                     1   \n",
       "\n",
       "   loser_tiebreaks_won            match_id  \\\n",
       "0                    0  2017-339-d875-n552   \n",
       "1                    0  2017-339-d875-r975   \n",
       "\n",
       "                  match_stats_url_suffix  \n",
       "0  /en/scores/2017/339/MS001/match-stats  \n",
       "1  /en/scores/2017/339/MS002/match-stats  \n",
       "\n",
       "[2 rows x 24 columns]"
      ]
     },
     "execution_count": 3,
     "metadata": {},
     "output_type": "execute_result"
    }
   ],
   "source": [
    "print(df_scores.columns)\n",
    "df_scores.head(2)"
   ]
  },
  {
   "cell_type": "code",
   "execution_count": 4,
   "metadata": {},
   "outputs": [
    {
     "name": "stdout",
     "output_type": "stream",
     "text": [
      "Index(['tourney_order', 'match_id', 'match_stats_url_suffix', 'match_time',\n",
      "       'match_duration', 'winner_aces', 'winner_double_faults',\n",
      "       'winner_first_serves_in', 'winner_first_serves_total',\n",
      "       'winner_first_serve_points_won', 'winner_first_serve_points_total',\n",
      "       'winner_second_serve_points_won', 'winner_second_serve_points_total',\n",
      "       'winner_break_points_saved', 'winner_break_points_serve_total',\n",
      "       'winner_service_points_won', 'winner_service_points_total',\n",
      "       'winner_first_serve_return_won', 'winner_first_serve_return_total',\n",
      "       'winner_second_serve_return_won', 'winner_second_serve_return_total',\n",
      "       'winner_break_points_converted', 'winner_break_points_return_total',\n",
      "       'winner_service_games_played', 'winner_return_games_played',\n",
      "       'winner_return_points_won', 'winner_return_points_total',\n",
      "       'winner_total_points_won', 'winner_total_points_total', 'loser_aces',\n",
      "       'loser_double_faults', 'loser_first_serves_in',\n",
      "       'loser_first_serves_total', 'loser_first_serve_points_won',\n",
      "       'loser_first_serve_points_total', 'loser_second_serve_points_won',\n",
      "       'loser_second_serve_points_total', 'loser_break_points_saved',\n",
      "       'loser_break_points_serve_total', 'loser_service_points_won',\n",
      "       'loser_service_points_total', 'loser_first_serve_return_won',\n",
      "       'loser_first_serve_return_total', 'loser_second_serve_return_won',\n",
      "       'loser_second_serve_return_total', 'loser_break_points_converted',\n",
      "       'loser_break_points_return_total', 'loser_service_games_played',\n",
      "       'loser_return_games_played', 'loser_return_points_won',\n",
      "       'loser_return_points_total', 'loser_total_points_won',\n",
      "       'loser_total_points_total'],\n",
      "      dtype='object')\n"
     ]
    },
    {
     "data": {
      "text/html": [
       "<div>\n",
       "<style scoped>\n",
       "    .dataframe tbody tr th:only-of-type {\n",
       "        vertical-align: middle;\n",
       "    }\n",
       "\n",
       "    .dataframe tbody tr th {\n",
       "        vertical-align: top;\n",
       "    }\n",
       "\n",
       "    .dataframe thead th {\n",
       "        text-align: right;\n",
       "    }\n",
       "</style>\n",
       "<table border=\"1\" class=\"dataframe\">\n",
       "  <thead>\n",
       "    <tr style=\"text-align: right;\">\n",
       "      <th></th>\n",
       "      <th>tourney_order</th>\n",
       "      <th>match_id</th>\n",
       "      <th>match_stats_url_suffix</th>\n",
       "      <th>match_time</th>\n",
       "      <th>match_duration</th>\n",
       "      <th>winner_aces</th>\n",
       "      <th>winner_double_faults</th>\n",
       "      <th>winner_first_serves_in</th>\n",
       "      <th>winner_first_serves_total</th>\n",
       "      <th>winner_first_serve_points_won</th>\n",
       "      <th>...</th>\n",
       "      <th>loser_second_serve_return_won</th>\n",
       "      <th>loser_second_serve_return_total</th>\n",
       "      <th>loser_break_points_converted</th>\n",
       "      <th>loser_break_points_return_total</th>\n",
       "      <th>loser_service_games_played</th>\n",
       "      <th>loser_return_games_played</th>\n",
       "      <th>loser_return_points_won</th>\n",
       "      <th>loser_return_points_total</th>\n",
       "      <th>loser_total_points_won</th>\n",
       "      <th>loser_total_points_total</th>\n",
       "    </tr>\n",
       "  </thead>\n",
       "  <tbody>\n",
       "    <tr>\n",
       "      <th>0</th>\n",
       "      <td>0</td>\n",
       "      <td>2017-339-r975-n409</td>\n",
       "      <td>/en/scores/2017/339/MS004/match-stats</td>\n",
       "      <td>02:21:00</td>\n",
       "      <td>141</td>\n",
       "      <td>23</td>\n",
       "      <td>3</td>\n",
       "      <td>62</td>\n",
       "      <td>97</td>\n",
       "      <td>50</td>\n",
       "      <td>...</td>\n",
       "      <td>19</td>\n",
       "      <td>35</td>\n",
       "      <td>1</td>\n",
       "      <td>7</td>\n",
       "      <td>14</td>\n",
       "      <td>15</td>\n",
       "      <td>31</td>\n",
       "      <td>97</td>\n",
       "      <td>84</td>\n",
       "      <td>181</td>\n",
       "    </tr>\n",
       "    <tr>\n",
       "      <th>1</th>\n",
       "      <td>0</td>\n",
       "      <td>2017-339-d875-n552</td>\n",
       "      <td>/en/scores/2017/339/MS001/match-stats</td>\n",
       "      <td>01:49:00</td>\n",
       "      <td>109</td>\n",
       "      <td>7</td>\n",
       "      <td>2</td>\n",
       "      <td>52</td>\n",
       "      <td>77</td>\n",
       "      <td>41</td>\n",
       "      <td>...</td>\n",
       "      <td>13</td>\n",
       "      <td>25</td>\n",
       "      <td>2</td>\n",
       "      <td>7</td>\n",
       "      <td>12</td>\n",
       "      <td>13</td>\n",
       "      <td>24</td>\n",
       "      <td>77</td>\n",
       "      <td>69</td>\n",
       "      <td>146</td>\n",
       "    </tr>\n",
       "  </tbody>\n",
       "</table>\n",
       "<p>2 rows × 53 columns</p>\n",
       "</div>"
      ],
      "text/plain": [
       "   tourney_order            match_id                 match_stats_url_suffix  \\\n",
       "0              0  2017-339-r975-n409  /en/scores/2017/339/MS004/match-stats   \n",
       "1              0  2017-339-d875-n552  /en/scores/2017/339/MS001/match-stats   \n",
       "\n",
       "  match_time  match_duration  winner_aces  winner_double_faults  \\\n",
       "0   02:21:00             141           23                     3   \n",
       "1   01:49:00             109            7                     2   \n",
       "\n",
       "   winner_first_serves_in  winner_first_serves_total  \\\n",
       "0                      62                         97   \n",
       "1                      52                         77   \n",
       "\n",
       "   winner_first_serve_points_won  ...  loser_second_serve_return_won  \\\n",
       "0                             50  ...                             19   \n",
       "1                             41  ...                             13   \n",
       "\n",
       "   loser_second_serve_return_total  loser_break_points_converted  \\\n",
       "0                               35                             1   \n",
       "1                               25                             2   \n",
       "\n",
       "   loser_break_points_return_total  loser_service_games_played  \\\n",
       "0                                7                          14   \n",
       "1                                7                          12   \n",
       "\n",
       "   loser_return_games_played  loser_return_points_won  \\\n",
       "0                         15                       31   \n",
       "1                         13                       24   \n",
       "\n",
       "   loser_return_points_total  loser_total_points_won  loser_total_points_total  \n",
       "0                         97                      84                       181  \n",
       "1                         77                      69                       146  \n",
       "\n",
       "[2 rows x 53 columns]"
      ]
     },
     "execution_count": 4,
     "metadata": {},
     "output_type": "execute_result"
    }
   ],
   "source": [
    "print(df_stats.columns)\n",
    "df_stats.head(2)"
   ]
  },
  {
   "cell_type": "code",
   "execution_count": 5,
   "metadata": {},
   "outputs": [],
   "source": [
    "# look for columns with null values and drop\n",
    "\n",
    "df_scores.drop(columns = 'match_stats_url_suffix', inplace = True) # can I filter by columsn that have missing values?"
   ]
  },
  {
   "cell_type": "markdown",
   "metadata": {},
   "source": [
    "### EDA"
   ]
  },
  {
   "cell_type": "code",
   "execution_count": 6,
   "metadata": {},
   "outputs": [
    {
     "data": {
      "text/plain": [
       "tourney_order                        int64\n",
       "match_id                            object\n",
       "match_stats_url_suffix              object\n",
       "match_time                          object\n",
       "match_duration                       int64\n",
       "winner_aces                          int64\n",
       "winner_double_faults                 int64\n",
       "winner_first_serves_in               int64\n",
       "winner_first_serves_total            int64\n",
       "winner_first_serve_points_won        int64\n",
       "winner_first_serve_points_total      int64\n",
       "winner_second_serve_points_won       int64\n",
       "winner_second_serve_points_total     int64\n",
       "winner_break_points_saved            int64\n",
       "winner_break_points_serve_total      int64\n",
       "winner_service_points_won            int64\n",
       "winner_service_points_total          int64\n",
       "winner_first_serve_return_won        int64\n",
       "winner_first_serve_return_total      int64\n",
       "winner_second_serve_return_won       int64\n",
       "winner_second_serve_return_total     int64\n",
       "winner_break_points_converted        int64\n",
       "winner_break_points_return_total     int64\n",
       "winner_service_games_played          int64\n",
       "winner_return_games_played           int64\n",
       "winner_return_points_won             int64\n",
       "winner_return_points_total           int64\n",
       "winner_total_points_won              int64\n",
       "winner_total_points_total            int64\n",
       "loser_aces                           int64\n",
       "loser_double_faults                  int64\n",
       "loser_first_serves_in                int64\n",
       "loser_first_serves_total             int64\n",
       "loser_first_serve_points_won         int64\n",
       "loser_first_serve_points_total       int64\n",
       "loser_second_serve_points_won        int64\n",
       "loser_second_serve_points_total      int64\n",
       "loser_break_points_saved             int64\n",
       "loser_break_points_serve_total       int64\n",
       "loser_service_points_won             int64\n",
       "loser_service_points_total           int64\n",
       "loser_first_serve_return_won         int64\n",
       "loser_first_serve_return_total       int64\n",
       "loser_second_serve_return_won        int64\n",
       "loser_second_serve_return_total      int64\n",
       "loser_break_points_converted         int64\n",
       "loser_break_points_return_total      int64\n",
       "loser_service_games_played           int64\n",
       "loser_return_games_played            int64\n",
       "loser_return_points_won              int64\n",
       "loser_return_points_total            int64\n",
       "loser_total_points_won               int64\n",
       "loser_total_points_total             int64\n",
       "dtype: object"
      ]
     },
     "execution_count": 6,
     "metadata": {},
     "output_type": "execute_result"
    }
   ],
   "source": [
    "# Look at 1st serve and 2nd serve percentages\n",
    "df_stats.dtypes"
   ]
  },
  {
   "cell_type": "markdown",
   "metadata": {},
   "source": [
    "---\n",
    "#### Winner vs Loser stats"
   ]
  },
  {
   "cell_type": "code",
   "execution_count": 7,
   "metadata": {},
   "outputs": [],
   "source": [
    "# first serve percentage\n",
    "avg_first_serve_in_win = (df_stats['winner_first_serves_in'] / df_stats['winner_first_serves_total']).mean()\n",
    "avg_first_serve_in_lose = (df_stats['loser_first_serves_in'] / df_stats['loser_first_serves_total']).mean()\n",
    "\n",
    "# first serve points won (percentage)\n",
    "avg_first_serve_points_win = (df_stats['winner_first_serve_points_won'] / df_stats['winner_first_serve_points_total']).mean()\n",
    "avg_first_serve_points_lose = (df_stats['loser_first_serve_points_won'] / df_stats['loser_first_serve_points_total']).mean()\n",
    "\n",
    "# second serve points won (pecentage)\n",
    "avg_second_serve_points_win = (df_stats['winner_second_serve_points_won'] / df_stats['winner_second_serve_points_total']).mean()\n",
    "avg_second_serve_points_lose = (df_stats['loser_second_serve_points_won'] / df_stats['loser_second_serve_points_total']).mean()\n",
    "\n",
    "# first serve return points won (percentage)\n",
    "avg_first_return_points_win = (df_stats['winner_first_serve_return_won'] / df_stats['winner_first_serve_return_total']).mean()\n",
    "avg_first_return_points_lose = (df_stats['loser_first_serve_return_won'] / df_stats['loser_first_serve_return_total']).mean()\n",
    "\n",
    "# second serve return points won (percentage)\n",
    "avg_second_return_points_win = (df_stats['winner_second_serve_return_won'] / df_stats['winner_second_serve_return_total']).mean()\n",
    "avg_second_return_points_lose = (df_stats['loser_second_serve_return_won'] / df_stats['loser_second_serve_return_total']).mean()"
   ]
  },
  {
   "cell_type": "markdown",
   "metadata": {},
   "source": [
    "#### Plots"
   ]
  },
  {
   "cell_type": "code",
   "execution_count": 54,
   "metadata": {},
   "outputs": [],
   "source": [
    "# creates bar chart comparing winner vs loser\n",
    "def plot_winner_loser(ax, bars, width = 0.35):\n",
    "    '''\n",
    "    Creates a bar chart comparing winner vs loser statistics. Used with subplots.\n",
    "    - ax: subplot location\n",
    "    - bars: list containting winner and loser stats\n",
    "    - width: width of bars (default = 0.35)\n",
    "    '''\n",
    "    winner = ax.bar(0, bars[0], width, label = 'Winner')\n",
    "    loser = ax.bar(width, bars[1], width, label = 'Loser')\n",
    "    ax.set_ylim([0, 1]) # https://stackoverflow.com/questions/3777861/setting-y-axis-limit-in-matplotlib"
   ]
  },
  {
   "cell_type": "code",
   "execution_count": 51,
   "metadata": {
    "scrolled": false
   },
   "outputs": [
    {
     "data": {
      "image/png": "[encoded data removed]",
      "text/plain": [
       "<Figure size 1008x576 with 3 Axes>"
      ]
     },
     "metadata": {
      "needs_background": "light"
     },
     "output_type": "display_data"
    }
   ],
   "source": [
    "# instantiate plot\n",
    "fig, (ax1, ax2, ax3) = plt.subplots(ncols = 3, figsize = (14,8))\n",
    "width = 0.35\n",
    "\n",
    "\n",
    "# plot first serve percentages -- winner vs loser\n",
    "plot_winner_loser(ax1, [avg_first_serve_in_win, avg_first_serve_in_lose])\n",
    "ax1.set_ylabel('Percentage')\n",
    "ax1.set_title('First Serves In (%)')\n",
    "ax1.set_xticks([0, width])\n",
    "ax1.set_xticklabels(['Winner', 'Loser'])\n",
    "ax1.legend()\n",
    "\n",
    "# plot first serve point percentages -- winner vs loser\n",
    "plot_winner_loser(ax2, [avg_first_serve_points_win, avg_first_serve_points_lose])\n",
    "#ax2.set_ylabel('Percentage')\n",
    "ax2.set_title('First Serve Points Won (%)')\n",
    "ax2.set_xticks([0, width])\n",
    "ax2.set_xticklabels(['Winner', 'Loser'])\n",
    "ax2.legend()\n",
    "\n",
    "# plot second serve point percentages -- winner vs loser\n",
    "plot_winner_loser(ax3, [avg_second_serve_points_win, avg_second_serve_points_lose])\n",
    "ax3.set_title('Second Serve Points Won (%)')\n",
    "#ax3.set_ylabel('Percentage')\n",
    "ax3.set_xticks([0, width])\n",
    "ax3.set_xticklabels(['Winner', 'Loser'])\n",
    "ax3.legend();\n",
    "\n",
    "\n",
    "# https://matplotlib.org/3.2.1/gallery/lines_bars_and_markers/barchart.html#sphx-glr-gallery-lines-bars-and-markers-barchart-py"
   ]
  },
  {
   "cell_type": "code",
   "execution_count": 52,
   "metadata": {},
   "outputs": [
    {
     "data": {
      "image/png": "[encoded data removed]",
      "text/plain": [
       "<Figure size 720x576 with 2 Axes>"
      ]
     },
     "metadata": {
      "needs_background": "light"
     },
     "output_type": "display_data"
    }
   ],
   "source": [
    "# instantiate plot\n",
    "fig, (ax1, ax2) = plt.subplots(ncols = 2, figsize = (10,8))\n",
    "width = 0.35\n",
    "\n",
    "\n",
    "# plot first serve point percentages -- winner vs loser\n",
    "plot_winner_loser(ax1, [avg_first_return_points_win, avg_first_return_points_lose])\n",
    "ax1.set_title('First Serve Return Points Won (%)')\n",
    "ax1.set_ylabel('Percentage')\n",
    "ax1.set_xticks([0, width])\n",
    "ax1.set_xticklabels(['Winner', 'Loser'])\n",
    "ax1.legend()\n",
    "\n",
    "# plot second serve point percentages -- winner vs loser\n",
    "plot_winner_loser(ax2, [avg_second_return_points_win, avg_second_return_points_lose])\n",
    "ax2.set_title('Second Serve Return Points Won (%)')\n",
    "#ax2.set_ylabel('Percentage')\n",
    "ax2.set_xticks([0, width])\n",
    "ax2.set_xticklabels(['Winner', 'Loser'])\n",
    "ax2.legend();"
   ]
  },
  {
   "cell_type": "markdown",
   "metadata": {},
   "source": [
    "---"
   ]
  },
  {
   "cell_type": "markdown",
   "metadata": {},
   "source": [
    "### Merging data"
   ]
  },
  {
   "cell_type": "code",
   "execution_count": 56,
   "metadata": {},
   "outputs": [],
   "source": [
    "df = pd.merge(df_scores, df_stats, on = 'match_id')"
   ]
  },
  {
   "cell_type": "code",
   "execution_count": 62,
   "metadata": {},
   "outputs": [
    {
     "name": "stderr",
     "output_type": "stream",
     "text": [
      "/Users/aidandominguez/opt/anaconda3/lib/python3.6/site-packages/ipykernel_launcher.py:1: FutureWarning: Indexing with multiple keys (implicitly converted to a tuple of keys) will be deprecated, use a list instead.\n",
      "  \"\"\"Entry point for launching an IPython kernel.\n"
     ]
    },
    {
     "data": {
      "text/html": [
       "<div>\n",
       "<style scoped>\n",
       "    .dataframe tbody tr th:only-of-type {\n",
       "        vertical-align: middle;\n",
       "    }\n",
       "\n",
       "    .dataframe tbody tr th {\n",
       "        vertical-align: top;\n",
       "    }\n",
       "\n",
       "    .dataframe thead th {\n",
       "        text-align: right;\n",
       "    }\n",
       "</style>\n",
       "<table border=\"1\" class=\"dataframe\">\n",
       "  <thead>\n",
       "    <tr style=\"text-align: right;\">\n",
       "      <th></th>\n",
       "      <th>winner_first_serve_points_won</th>\n",
       "      <th>winner_first_serve_points_total</th>\n",
       "    </tr>\n",
       "    <tr>\n",
       "      <th>winner_name</th>\n",
       "      <th></th>\n",
       "      <th></th>\n",
       "    </tr>\n",
       "  </thead>\n",
       "  <tbody>\n",
       "    <tr>\n",
       "      <th>Adam Pavlasek</th>\n",
       "      <td>59.000000</td>\n",
       "      <td>70.000000</td>\n",
       "    </tr>\n",
       "    <tr>\n",
       "      <th>Adrian Bodmer</th>\n",
       "      <td>37.000000</td>\n",
       "      <td>42.000000</td>\n",
       "    </tr>\n",
       "    <tr>\n",
       "      <th>Adrian Mannarino</th>\n",
       "      <td>34.794872</td>\n",
       "      <td>48.897436</td>\n",
       "    </tr>\n",
       "    <tr>\n",
       "      <th>Adrian Menendez-Maceiras</th>\n",
       "      <td>33.000000</td>\n",
       "      <td>44.125000</td>\n",
       "    </tr>\n",
       "    <tr>\n",
       "      <th>Agustin Velotti</th>\n",
       "      <td>22.500000</td>\n",
       "      <td>31.500000</td>\n",
       "    </tr>\n",
       "    <tr>\n",
       "      <th>...</th>\n",
       "      <td>...</td>\n",
       "      <td>...</td>\n",
       "    </tr>\n",
       "    <tr>\n",
       "      <th>Yusuke Takahashi</th>\n",
       "      <td>22.000000</td>\n",
       "      <td>30.000000</td>\n",
       "    </tr>\n",
       "    <tr>\n",
       "      <th>Yuya Kibi</th>\n",
       "      <td>42.000000</td>\n",
       "      <td>60.000000</td>\n",
       "    </tr>\n",
       "    <tr>\n",
       "      <th>Zdenek Kolar</th>\n",
       "      <td>42.000000</td>\n",
       "      <td>58.000000</td>\n",
       "    </tr>\n",
       "    <tr>\n",
       "      <th>Zhizhen Zhang</th>\n",
       "      <td>30.250000</td>\n",
       "      <td>41.750000</td>\n",
       "    </tr>\n",
       "    <tr>\n",
       "      <th>Zihao Xia</th>\n",
       "      <td>42.000000</td>\n",
       "      <td>53.000000</td>\n",
       "    </tr>\n",
       "  </tbody>\n",
       "</table>\n",
       "<p>333 rows × 2 columns</p>\n",
       "</div>"
      ],
      "text/plain": [
       "                          winner_first_serve_points_won  \\\n",
       "winner_name                                               \n",
       "Adam Pavlasek                                 59.000000   \n",
       "Adrian Bodmer                                 37.000000   \n",
       "Adrian Mannarino                              34.794872   \n",
       "Adrian Menendez-Maceiras                      33.000000   \n",
       "Agustin Velotti                               22.500000   \n",
       "...                                                 ...   \n",
       "Yusuke Takahashi                              22.000000   \n",
       "Yuya Kibi                                     42.000000   \n",
       "Zdenek Kolar                                  42.000000   \n",
       "Zhizhen Zhang                                 30.250000   \n",
       "Zihao Xia                                     42.000000   \n",
       "\n",
       "                          winner_first_serve_points_total  \n",
       "winner_name                                                \n",
       "Adam Pavlasek                                   70.000000  \n",
       "Adrian Bodmer                                   42.000000  \n",
       "Adrian Mannarino                                48.897436  \n",
       "Adrian Menendez-Maceiras                        44.125000  \n",
       "Agustin Velotti                                 31.500000  \n",
       "...                                                   ...  \n",
       "Yusuke Takahashi                                30.000000  \n",
       "Yuya Kibi                                       60.000000  \n",
       "Zdenek Kolar                                    58.000000  \n",
       "Zhizhen Zhang                                   41.750000  \n",
       "Zihao Xia                                       53.000000  \n",
       "\n",
       "[333 rows x 2 columns]"
      ]
     },
     "execution_count": 62,
     "metadata": {},
     "output_type": "execute_result"
    }
   ],
   "source": [
    "df.groupby('winner_name')['winner_first_serve_points_won', 'winner_first_serve_points_total'].mean()"
   ]
  },
  {
   "cell_type": "code",
   "execution_count": 63,
   "metadata": {},
   "outputs": [
    {
     "data": {
      "text/plain": [
       "(3798, 75)"
      ]
     },
     "execution_count": 63,
     "metadata": {},
     "output_type": "execute_result"
    }
   ],
   "source": [
    "df.shape"
   ]
  }
 ],
 "metadata": {
  "kernelspec": {
   "display_name": "Python 3",
   "language": "python",
   "name": "python3"
  },
  "language_info": {
   "codemirror_mode": {
    "name": "ipython",
    "version": 3
   },
   "file_extension": ".py",
   "mimetype": "text/x-python",
   "name": "python",
   "nbconvert_exporter": "python",
   "pygments_lexer": "ipython3",
   "version": "3.6.9"
  }
 },
 "nbformat": 4,
 "nbformat_minor": 2
}
